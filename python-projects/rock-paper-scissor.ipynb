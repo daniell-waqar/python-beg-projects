{
 "cells": [
  {
   "cell_type": "code",
   "execution_count": 5,
   "id": "ce44372c",
   "metadata": {},
   "outputs": [
    {
     "name": "stdout",
     "output_type": "stream",
     "text": [
      "Rock/Paper/Scissor or Q to quit: rock\n",
      "Computer Picked :  paper\n",
      "You lost!!\n",
      "Rock/Paper/Scissor or Q to quit: paper\n",
      "Computer Picked :  scissor\n",
      "You lost!!\n",
      "Rock/Paper/Scissor or Q to quit: rock\n",
      "Computer Picked :  paper\n",
      "You lost!!\n",
      "Rock/Paper/Scissor or Q to quit: paper\n",
      "Computer Picked :  rock\n",
      "You Won! because Paper covers Rock.\n",
      "Rock/Paper/Scissor or Q to quit: q\n",
      "Goodbye ta ta!!\n",
      "User Win  1 times\n",
      "Computer Win  3 times\n"
     ]
    }
   ],
   "source": [
    "import random\n",
    "\n",
    "user_win = 0\n",
    "computer_win = 0\n",
    "options = [\"rock\", \"paper\", \"scissor\"]\n",
    "while True:\n",
    "    \n",
    "    user_input = input(\"Rock/Paper/Scissor or Q to quit: \").lower()\n",
    "    \n",
    "    if user_input == 'q':\n",
    "        break\n",
    "    if user_input not in options:\n",
    "        continue\n",
    "    \n",
    "    rand_number = random.randint(0, 2)\n",
    "    # 0 = rock , 1 = paper ,  2 = scissor\n",
    "    computer_pick = options[rand_number]\n",
    "    \n",
    "    print(\"Computer Picked : \", computer_pick)\n",
    "    \n",
    "    if user_input == \"rock\" and computer_pick == \"scissor\":\n",
    "        user_win += 1\n",
    "        print(\"You Won! because Rock crushes Scissors.\")\n",
    "        \n",
    "    elif user_input == \"paper\" and computer_pick == \"rock\":\n",
    "        user_win += 1\n",
    "        print(\"You Won! because Paper covers Rock.\")\n",
    "    \n",
    "    elif user_input == \"scissor\" and computer_pick == \"paper\":\n",
    "        user_win += 1\n",
    "        print(\"You Won! because Scissors cut Paper.\")\n",
    "        \n",
    "    else:\n",
    "        print(\"You lost!!\")\n",
    "        computer_win += 1\n",
    "        \n",
    "print(\"Goodbye ta ta!!\")\n",
    "\n",
    "print(\"User Win \", user_win, \"times\")\n",
    "    \n",
    "print(\"Computer Win \", computer_win, \"times\")\n"
   ]
  },
  {
   "cell_type": "code",
   "execution_count": null,
   "id": "e3232695",
   "metadata": {},
   "outputs": [],
   "source": []
  }
 ],
 "metadata": {
  "kernelspec": {
   "display_name": "Python 3 (ipykernel)",
   "language": "python",
   "name": "python3"
  },
  "language_info": {
   "codemirror_mode": {
    "name": "ipython",
    "version": 3
   },
   "file_extension": ".py",
   "mimetype": "text/x-python",
   "name": "python",
   "nbconvert_exporter": "python",
   "pygments_lexer": "ipython3",
   "version": "3.11.5"
  }
 },
 "nbformat": 4,
 "nbformat_minor": 5
}
