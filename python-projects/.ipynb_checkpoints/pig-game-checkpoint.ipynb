{
 "cells": [
  {
   "cell_type": "code",
   "execution_count": null,
   "id": "858c8a91",
   "metadata": {},
   "outputs": [],
   "source": [
    "dice roll rules\n",
    "each player will take a turn to roll a dice and it will come with a some score keep track of this score and based on this\n",
    "score winner will be decided.\n",
    "\n",
    "Let's just design the game today!!\n",
    "\n",
    "Welcome to the Pig Game!\n",
    "\n",
    "Player 1's turn:\n",
    "Rolling the die...\n",
    "You rolled a 3.\n",
    "Current score: 3\n",
    "Would you like to roll again? (y/n): y\n",
    "Rolling the die...\n",
    "You rolled a 6.\n",
    "Current score: 9\n",
    "Would you like to roll again? (y/n): n\n",
    "Player 1's final score: 9\n",
    "\n",
    "Player 2's turn:\n",
    "Rolling the die...\n",
    "You rolled a 4.\n",
    "Current score: 4\n",
    "Would you like to roll again? (y/n): y\n",
    "Rolling the die...\n",
    "You rolled a 2.\n",
    "Current score: 6\n",
    "Would you like to roll again? (y/n): y\n",
    "Rolling the die...\n",
    "You rolled a 1. Oops! You rolled a 1 and lost your turn.\n",
    "Player 2's final score: 0\n",
    "\n",
    "Player 1 wins!\n"
   ]
  },
  {
   "cell_type": "code",
   "execution_count": null,
   "id": "f8f4e658",
   "metadata": {},
   "outputs": [
    {
     "name": "stdout",
     "output_type": "stream",
     "text": [
      "Enter the player number: 1\n",
      "1 's turn:\n",
      "Rolling the die...\n",
      "You rolled a 2\n",
      "current score is  2\n",
      "Would you like to play again? (y/n): y\n",
      "Rolling the die...\n",
      "You rolled a 2\n",
      "current score is  4\n",
      "Enter the player number: 2\n",
      "2 's turn:\n",
      "Rolling the die...\n",
      "You rolled a 4\n",
      "current score is  4\n",
      "Would you like to play again? (y/n): y\n",
      "Rolling the die...\n",
      "You rolled a 4\n",
      "current score is  8\n"
     ]
    }
   ],
   "source": [
    "import random\n",
    "\n",
    "while True:\n",
    "    player = int(input(\"Enter the player number: \"))\n",
    "    score = 0\n",
    "\n",
    "    print(player, \"'s turn:\")\n",
    "    print(\"Rolling the die...\")\n",
    "\n",
    "    random_score = random.randint(1, 6)\n",
    "    score = score + random_score\n",
    "    print(\"You rolled a\", random_score)\n",
    "    print(\"current score is \", score)\n",
    "\n",
    "    choice = input(\"Would you like to play again? (y/n): \")\n",
    "\n",
    "    if choice == 'y':\n",
    "        print(\"Rolling the die...\")\n",
    "        random_score = random.randint(1, 6)\n",
    "        score = score + random_score\n",
    "        print(\"You rolled a\", random_score)\n",
    "        print(\"current score is \", score)\n",
    "    if choice == 'n':\n",
    "        print(player, \"'s final score :\" , score)\n"
   ]
  },
  {
   "cell_type": "code",
   "execution_count": null,
   "id": "a46c66bb",
   "metadata": {},
   "outputs": [],
   "source": []
  }
 ],
 "metadata": {
  "kernelspec": {
   "display_name": "Python 3 (ipykernel)",
   "language": "python",
   "name": "python3"
  },
  "language_info": {
   "codemirror_mode": {
    "name": "ipython",
    "version": 3
   },
   "file_extension": ".py",
   "mimetype": "text/x-python",
   "name": "python",
   "nbconvert_exporter": "python",
   "pygments_lexer": "ipython3",
   "version": "3.11.5"
  }
 },
 "nbformat": 4,
 "nbformat_minor": 5
}
