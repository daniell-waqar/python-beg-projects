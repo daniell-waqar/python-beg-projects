{
 "cells": [
  {
   "cell_type": "code",
   "execution_count": null,
   "id": "84cfbc47",
   "metadata": {},
   "outputs": [],
   "source": [
    "user_win = 0\n",
    "computer_win = 0\n",
    "options = [\"rock\" , \"paper\", \"scissor\"]\n",
    "while True:\n",
    "    \n",
    "    user_input = input(\"Rock/Paper/Scissor or Q to quit: \").lower()\n",
    "    \n",
    "    if user_input == 'q':\n",
    "        break\n",
    "    if user_input not in options:\n",
    "        continue\n",
    "    \n",
    "    rand_number = random.randint(0,2)\n",
    "    # 0 = rock , 1 = paper ,  2 = scissor\n",
    "    \n",
    "    if \n",
    "    \n",
    "    "
   ]
  }
 ],
 "metadata": {
  "kernelspec": {
   "display_name": "Python 3 (ipykernel)",
   "language": "python",
   "name": "python3"
  },
  "language_info": {
   "codemirror_mode": {
    "name": "ipython",
    "version": 3
   },
   "file_extension": ".py",
   "mimetype": "text/x-python",
   "name": "python",
   "nbconvert_exporter": "python",
   "pygments_lexer": "ipython3",
   "version": "3.11.5"
  }
 },
 "nbformat": 4,
 "nbformat_minor": 5
}
