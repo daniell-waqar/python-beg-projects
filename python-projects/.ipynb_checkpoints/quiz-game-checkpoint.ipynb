{
 "cells": [
  {
   "cell_type": "markdown",
   "id": "6de09915",
   "metadata": {},
   "source": [
    "# Beginner Level Project (Quiz Game)"
   ]
  },
  {
   "cell_type": "code",
   "execution_count": 3,
   "id": "08f3b68c",
   "metadata": {},
   "outputs": [
    {
     "name": "stdout",
     "output_type": "stream",
     "text": [
      "Welcome to the Quiz Game\n",
      "Do You want to play? yes\n",
      "What does API stand for? appliction programming interface\n",
      "Incorrect!\n",
      "What is Git? \n",
      "Incorrect!\n",
      "What is AI? artificial intelligence\n",
      "Correct\n",
      "You got 1 questions correct\n",
      "You got 33.33333333333333%\n"
     ]
    }
   ],
   "source": [
    "print(\"Welcome to the Quiz Game\")\n",
    "\n",
    "playing = input(\"Do You want to play? \")\n",
    "\n",
    "if playing.lower() != 'yes':\n",
    "    print(\"Okay, maybe next time!\")\n",
    "    exit()\n",
    "\n",
    "score = 0\n",
    "\n",
    "answer = input(\"What does API stand for? \").lower()\n",
    "\n",
    "if answer == \"application programming interface\":\n",
    "    score += 1\n",
    "    print(\"Correct\")\n",
    "else:\n",
    "    print(\"Incorrect!\")\n",
    "\n",
    "answer = input(\"What is Git? \").lower()\n",
    "\n",
    "if answer == \"version control system\":\n",
    "    score += 1\n",
    "    print(\"Correct\")\n",
    "else:\n",
    "    print(\"Incorrect!\")\n",
    "\n",
    "answer = input(\"What is AI? \").lower()\n",
    "if answer == \"artificial intelligence\":\n",
    "    score += 1\n",
    "    print(\"Correct\")\n",
    "else:\n",
    "    print(\"Incorrect!\")\n",
    "\n",
    "print(\"You got \" + str(score) + \" questions correct\")\n",
    "print(\"You got \" + str((score / 3) * 100) + \"%\")"
   ]
  },
  {
   "cell_type": "code",
   "execution_count": null,
   "id": "31820ee7",
   "metadata": {},
   "outputs": [],
   "source": []
  },
  {
   "cell_type": "code",
   "execution_count": null,
   "id": "e74797d9",
   "metadata": {},
   "outputs": [],
   "source": []
  }
 ],
 "metadata": {
  "kernelspec": {
   "display_name": "Python 3 (ipykernel)",
   "language": "python",
   "name": "python3"
  },
  "language_info": {
   "codemirror_mode": {
    "name": "ipython",
    "version": 3
   },
   "file_extension": ".py",
   "mimetype": "text/x-python",
   "name": "python",
   "nbconvert_exporter": "python",
   "pygments_lexer": "ipython3",
   "version": "3.11.5"
  }
 },
 "nbformat": 4,
 "nbformat_minor": 5
}
